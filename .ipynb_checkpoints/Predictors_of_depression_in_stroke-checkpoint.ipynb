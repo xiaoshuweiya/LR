{
 "cells": [
  {
   "cell_type": "code",
   "execution_count": 1,
   "id": "8a87f521-afe4-4a2c-8ebf-ed0e351ee47a",
   "metadata": {},
   "outputs": [],
   "source": [
    "import streamlit as st\n",
    "import joblib\n",
    "import numpy as np\n",
    "import pandas as pd\n",
    "import shap\n",
    "import matplotlib.pyplot as plt"
   ]
  },
  {
   "cell_type": "code",
   "execution_count": 2,
   "id": "86c0e311-0a77-4dff-ba4e-e5474db1d54e",
   "metadata": {},
   "outputs": [],
   "source": [
    "model = joblib.load('LR.pkl')"
   ]
  },
  {
   "cell_type": "code",
   "execution_count": 3,
   "id": "33a921a7-6298-46d8-8f10-03553ab89b19",
   "metadata": {},
   "outputs": [],
   "source": [
    "feature_names = [\"Gender\", \"Age\", \"PIR\", \"Drinking\", \"Sleep_disorder\", \"Moderate_physical_activity\", \"Total_cholesterol\"]"
   ]
  },
  {
   "cell_type": "code",
   "execution_count": 5,
   "id": "3bb28629-1e26-446a-9034-4d334b0be235",
   "metadata": {},
   "outputs": [
    {
     "data": {
      "text/plain": [
       "DeltaGenerator()"
      ]
     },
     "execution_count": 5,
     "metadata": {},
     "output_type": "execute_result"
    }
   ],
   "source": [
    "# Streamlit user interface\n",
    "st.title(\"Predictors of depression in stroke patients\")"
   ]
  },
  {
   "cell_type": "code",
   "execution_count": 6,
   "id": "beb5977a-3daf-4314-87c8-8982ae3a6519",
   "metadata": {},
   "outputs": [],
   "source": [
    "# sex: categorical selection\n",
    "Gender = st.selectbox(\"Gender (0=Male, 1=Female):\", options=[0, 1], format_func=lambda x: 'Male (0)' if x == 0 else 'Female (1)')\n",
    "\n",
    "# age: numerical input\n",
    "Age = st.number_input(\"Age:\", min_value=20, max_value=85, value=50)\n",
    "\n",
    "# PIR: numerical input\n",
    "PIR = st.number_input(\"PIR:\", min_value=0, max_value=5, value=3)\n",
    "\n",
    "# Dringking: categorical selection\n",
    "Drinking = st.selectbox(\"Drinking (0=No, 1=Yes):\", options=[0, 1], format_func=lambda x: 'No (0)' if x == 0 else 'Yes (1)')\n",
    "\n",
    "# Sleep disorder: categorical selection\n",
    "Sleep_disorder = st.selectbox(\"Sleep_disorder (0=No, 1=Yes):\", options=[0, 1], format_func=lambda x: 'No (0)' if x == 0 else 'Yes (1)')\n",
    "\n",
    "# sex: categorical selection\n",
    "Moderate_physical_activity = st.selectbox(\"Moderate_physical_activity (0=No, 1=Yes):\", options=[0, 1], format_func=lambda x: 'No (0)' if x == 0 else 'Yes (1)')\n",
    "\n",
    "# PIR: numerical input\n",
    "Total_cholesterol = st.number_input(\"Total_cholesterol:\", min_value=2.07, max_value=9.98, value=6.0)"
   ]
  },
  {
   "cell_type": "code",
   "execution_count": 7,
   "id": "2cb9c379-f627-4590-a362-993bf9f73f3c",
   "metadata": {},
   "outputs": [],
   "source": [
    "# Process inputs and make predictions\n",
    "feature_values = [Gender, Age, PIR, Drinking, Sleep_disorder, Moderate_physical_activity, Total_cholesterol]\n",
    "features = np.array([feature_values])"
   ]
  },
  {
   "cell_type": "code",
   "execution_count": 8,
   "id": "b4f3b074-aeaa-4c5f-94a9-66c61214e5bf",
   "metadata": {},
   "outputs": [],
   "source": [
    "if st.button(\"Predict\"):\n",
    "    try:\n",
    "        # Predict class and probabilities\n",
    "        predicted_class = model.predict(features)[0]\n",
    "        predicted_proba = model.predict_proba(features)[0]\n",
    "\n",
    "        # Display prediction results\n",
    "        st.write(f\"**Predicted Class:** {predicted_class}\")\n",
    "        st.write(f\"**Prediction Probabilities:** {predicted_proba}\")\n",
    "\n",
    "        # Generate advice based on prediction results\n",
    "        probability = predicted_proba[predicted_class] * 100\n",
    "\n",
    "        if predicted_class == 1:\n",
    "            advice = (\n",
    "                f\"According to our model, you have a high risk of heart disease. \"\n",
    "                f\"The model predicts that your probability of having heart disease is {probability:.1f}%. \"\n",
    "                \"While this is just an estimate, it suggests that you may be at significant risk. \"\n",
    "                \"I recommend that you consult a cardiologist as soon as possible for further evaluation and \"\n",
    "                \"to ensure you receive an accurate diagnosis and necessary treatment.\"\n",
    "            )\n",
    "        else:\n",
    "            advice = (\n",
    "                f\"According to our model, you have a low risk of heart disease. \"\n",
    "                f\"The model predicts that your probability of not having heart disease is {probability:.1f}%. \"\n",
    "                \"However, maintaining a healthy lifestyle is still very important. \"\n",
    "                \"I recommend regular check-ups to monitor your heart health, \"\n",
    "                \"and to seek medical advice promptly if you experience any symptoms.\"\n",
    "            )\n",
    "\n",
    "        st.write(advice)\n",
    "\n",
    "        # Calculate SHAP values and display force plot\n",
    "        with st.spinner(\"Calculating SHAP values...\"):\n",
    "            explainer = shap.TreeExplainer(model)\n",
    "            shap_values = explainer.shap_values(pd.DataFrame([feature_values], columns=feature_names))\n",
    "\n",
    "            shap.force_plot(explainer.expected_value, shap_values[0], pd.DataFrame([feature_values], columns=feature_names), matplotlib=True)\n",
    "            plt.savefig(\"shap_force_plot.png\", bbox_inches='tight', dpi=1200)\n",
    "\n",
    "        # Display the SHAP force plot image\n",
    "        st.image(\"shap_force_plot.png\")\n",
    "\n",
    "    except Exception as e:\n",
    "        st.error(f\"An error occurred: {str(e)}\")"
   ]
  }
 ],
 "metadata": {
  "kernelspec": {
   "display_name": "Python 3 (ipykernel)",
   "language": "python",
   "name": "python3"
  },
  "language_info": {
   "codemirror_mode": {
    "name": "ipython",
    "version": 3
   },
   "file_extension": ".py",
   "mimetype": "text/x-python",
   "name": "python",
   "nbconvert_exporter": "python",
   "pygments_lexer": "ipython3",
   "version": "3.11.7"
  }
 },
 "nbformat": 4,
 "nbformat_minor": 5
}
