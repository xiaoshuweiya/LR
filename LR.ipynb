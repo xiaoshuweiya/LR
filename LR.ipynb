{
 "cells": [
  {
   "cell_type": "code",
   "execution_count": 1,
   "id": "e37be5f8-53d3-4c3f-b06d-1aeead633852",
   "metadata": {},
   "outputs": [],
   "source": [
    "import pandas  as pd\n",
    "import numpy as np"
   ]
  },
  {
   "cell_type": "code",
   "execution_count": 2,
   "id": "9faa9525-9345-4029-b184-a46ecc1fa514",
   "metadata": {},
   "outputs": [],
   "source": [
    "train=pd.read_csv('C:/Users/19850/Desktop/数据库/NHANES数据库/写作/机器学习-临床预测模型/卒中后抑郁症风险/数据/筛选的变量用于python/train.csv')\n",
    "test=pd.read_csv('C:/Users/19850/Desktop/数据库/NHANES数据库/写作/机器学习-临床预测模型/卒中后抑郁症风险/数据/筛选的变量用于python/test.csv')"
   ]
  },
  {
   "cell_type": "code",
   "execution_count": 3,
   "id": "9fc34390-0649-4601-b56e-850b1284b881",
   "metadata": {},
   "outputs": [],
   "source": [
    "X_train=train.iloc[:,:-1]\n",
    "y_train=train.iloc[:,-1]\n",
    "X_test=test.iloc[:,:-1]\n",
    "y_test=test.iloc[:,-1]"
   ]
  },
  {
   "cell_type": "code",
   "execution_count": 4,
   "id": "1f4c178b-41ea-40a4-88e6-db15b3adee7d",
   "metadata": {},
   "outputs": [],
   "source": [
    "from sklearn.linear_model import LogisticRegression\n",
    "from sklearn.model_selection import GridSearchCV"
   ]
  },
  {
   "cell_type": "code",
   "execution_count": 5,
   "id": "916dbf38-51cb-46a6-9410-aad6004eecc9",
   "metadata": {},
   "outputs": [],
   "source": [
    "# 创建逻辑回归分类器\n",
    "log_reg = LogisticRegression(solver='liblinear', multi_class='auto', random_state=42)"
   ]
  },
  {
   "cell_type": "code",
   "execution_count": 6,
   "id": "351da4f3-cc34-4247-aed5-bedb757a8595",
   "metadata": {},
   "outputs": [],
   "source": [
    "# 设置要搜索的参数范围\n",
    "param_grid = {\n",
    "    'C': [0.01, 0.1, 1, 10, 100],  # 正则化强度\n",
    "    'penalty': ['l1', 'l2'],        # 惩罚项\n",
    "    'max_iter': [100, 200, 300]     # 迭代次数\n",
    "}\n"
   ]
  },
  {
   "cell_type": "code",
   "execution_count": 7,
   "id": "abab8cb5-2691-4dc1-904b-913cbdb8f08a",
   "metadata": {},
   "outputs": [],
   "source": [
    "# 创建网格搜索\n",
    "grid_search = GridSearchCV(estimator=log_reg, param_grid=param_grid,\n",
    "                           cv=5, n_jobs=-1, verbose=1)\n"
   ]
  },
  {
   "cell_type": "code",
   "execution_count": 8,
   "id": "9166d4bf-7e11-4380-859f-d47ab98ef12c",
   "metadata": {},
   "outputs": [
    {
     "name": "stdout",
     "output_type": "stream",
     "text": [
      "Fitting 5 folds for each of 30 candidates, totalling 150 fits\n"
     ]
    },
    {
     "data": {
      "text/html": [
       "<style>#sk-container-id-1 {color: black;background-color: white;}#sk-container-id-1 pre{padding: 0;}#sk-container-id-1 div.sk-toggleable {background-color: white;}#sk-container-id-1 label.sk-toggleable__label {cursor: pointer;display: block;width: 100%;margin-bottom: 0;padding: 0.3em;box-sizing: border-box;text-align: center;}#sk-container-id-1 label.sk-toggleable__label-arrow:before {content: \"▸\";float: left;margin-right: 0.25em;color: #696969;}#sk-container-id-1 label.sk-toggleable__label-arrow:hover:before {color: black;}#sk-container-id-1 div.sk-estimator:hover label.sk-toggleable__label-arrow:before {color: black;}#sk-container-id-1 div.sk-toggleable__content {max-height: 0;max-width: 0;overflow: hidden;text-align: left;background-color: #f0f8ff;}#sk-container-id-1 div.sk-toggleable__content pre {margin: 0.2em;color: black;border-radius: 0.25em;background-color: #f0f8ff;}#sk-container-id-1 input.sk-toggleable__control:checked~div.sk-toggleable__content {max-height: 200px;max-width: 100%;overflow: auto;}#sk-container-id-1 input.sk-toggleable__control:checked~label.sk-toggleable__label-arrow:before {content: \"▾\";}#sk-container-id-1 div.sk-estimator input.sk-toggleable__control:checked~label.sk-toggleable__label {background-color: #d4ebff;}#sk-container-id-1 div.sk-label input.sk-toggleable__control:checked~label.sk-toggleable__label {background-color: #d4ebff;}#sk-container-id-1 input.sk-hidden--visually {border: 0;clip: rect(1px 1px 1px 1px);clip: rect(1px, 1px, 1px, 1px);height: 1px;margin: -1px;overflow: hidden;padding: 0;position: absolute;width: 1px;}#sk-container-id-1 div.sk-estimator {font-family: monospace;background-color: #f0f8ff;border: 1px dotted black;border-radius: 0.25em;box-sizing: border-box;margin-bottom: 0.5em;}#sk-container-id-1 div.sk-estimator:hover {background-color: #d4ebff;}#sk-container-id-1 div.sk-parallel-item::after {content: \"\";width: 100%;border-bottom: 1px solid gray;flex-grow: 1;}#sk-container-id-1 div.sk-label:hover label.sk-toggleable__label {background-color: #d4ebff;}#sk-container-id-1 div.sk-serial::before {content: \"\";position: absolute;border-left: 1px solid gray;box-sizing: border-box;top: 0;bottom: 0;left: 50%;z-index: 0;}#sk-container-id-1 div.sk-serial {display: flex;flex-direction: column;align-items: center;background-color: white;padding-right: 0.2em;padding-left: 0.2em;position: relative;}#sk-container-id-1 div.sk-item {position: relative;z-index: 1;}#sk-container-id-1 div.sk-parallel {display: flex;align-items: stretch;justify-content: center;background-color: white;position: relative;}#sk-container-id-1 div.sk-item::before, #sk-container-id-1 div.sk-parallel-item::before {content: \"\";position: absolute;border-left: 1px solid gray;box-sizing: border-box;top: 0;bottom: 0;left: 50%;z-index: -1;}#sk-container-id-1 div.sk-parallel-item {display: flex;flex-direction: column;z-index: 1;position: relative;background-color: white;}#sk-container-id-1 div.sk-parallel-item:first-child::after {align-self: flex-end;width: 50%;}#sk-container-id-1 div.sk-parallel-item:last-child::after {align-self: flex-start;width: 50%;}#sk-container-id-1 div.sk-parallel-item:only-child::after {width: 0;}#sk-container-id-1 div.sk-dashed-wrapped {border: 1px dashed gray;margin: 0 0.4em 0.5em 0.4em;box-sizing: border-box;padding-bottom: 0.4em;background-color: white;}#sk-container-id-1 div.sk-label label {font-family: monospace;font-weight: bold;display: inline-block;line-height: 1.2em;}#sk-container-id-1 div.sk-label-container {text-align: center;}#sk-container-id-1 div.sk-container {/* jupyter's `normalize.less` sets `[hidden] { display: none; }` but bootstrap.min.css set `[hidden] { display: none !important; }` so we also need the `!important` here to be able to override the default hidden behavior on the sphinx rendered scikit-learn.org. See: https://github.com/scikit-learn/scikit-learn/issues/21755 */display: inline-block !important;position: relative;}#sk-container-id-1 div.sk-text-repr-fallback {display: none;}</style><div id=\"sk-container-id-1\" class=\"sk-top-container\"><div class=\"sk-text-repr-fallback\"><pre>GridSearchCV(cv=5,\n",
       "             estimator=LogisticRegression(random_state=42, solver=&#x27;liblinear&#x27;),\n",
       "             n_jobs=-1,\n",
       "             param_grid={&#x27;C&#x27;: [0.01, 0.1, 1, 10, 100],\n",
       "                         &#x27;max_iter&#x27;: [100, 200, 300], &#x27;penalty&#x27;: [&#x27;l1&#x27;, &#x27;l2&#x27;]},\n",
       "             verbose=1)</pre><b>In a Jupyter environment, please rerun this cell to show the HTML representation or trust the notebook. <br />On GitHub, the HTML representation is unable to render, please try loading this page with nbviewer.org.</b></div><div class=\"sk-container\" hidden><div class=\"sk-item sk-dashed-wrapped\"><div class=\"sk-label-container\"><div class=\"sk-label sk-toggleable\"><input class=\"sk-toggleable__control sk-hidden--visually\" id=\"sk-estimator-id-1\" type=\"checkbox\" ><label for=\"sk-estimator-id-1\" class=\"sk-toggleable__label sk-toggleable__label-arrow\">GridSearchCV</label><div class=\"sk-toggleable__content\"><pre>GridSearchCV(cv=5,\n",
       "             estimator=LogisticRegression(random_state=42, solver=&#x27;liblinear&#x27;),\n",
       "             n_jobs=-1,\n",
       "             param_grid={&#x27;C&#x27;: [0.01, 0.1, 1, 10, 100],\n",
       "                         &#x27;max_iter&#x27;: [100, 200, 300], &#x27;penalty&#x27;: [&#x27;l1&#x27;, &#x27;l2&#x27;]},\n",
       "             verbose=1)</pre></div></div></div><div class=\"sk-parallel\"><div class=\"sk-parallel-item\"><div class=\"sk-item\"><div class=\"sk-label-container\"><div class=\"sk-label sk-toggleable\"><input class=\"sk-toggleable__control sk-hidden--visually\" id=\"sk-estimator-id-2\" type=\"checkbox\" ><label for=\"sk-estimator-id-2\" class=\"sk-toggleable__label sk-toggleable__label-arrow\">estimator: LogisticRegression</label><div class=\"sk-toggleable__content\"><pre>LogisticRegression(random_state=42, solver=&#x27;liblinear&#x27;)</pre></div></div></div><div class=\"sk-serial\"><div class=\"sk-item\"><div class=\"sk-estimator sk-toggleable\"><input class=\"sk-toggleable__control sk-hidden--visually\" id=\"sk-estimator-id-3\" type=\"checkbox\" ><label for=\"sk-estimator-id-3\" class=\"sk-toggleable__label sk-toggleable__label-arrow\">LogisticRegression</label><div class=\"sk-toggleable__content\"><pre>LogisticRegression(random_state=42, solver=&#x27;liblinear&#x27;)</pre></div></div></div></div></div></div></div></div></div></div>"
      ],
      "text/plain": [
       "GridSearchCV(cv=5,\n",
       "             estimator=LogisticRegression(random_state=42, solver='liblinear'),\n",
       "             n_jobs=-1,\n",
       "             param_grid={'C': [0.01, 0.1, 1, 10, 100],\n",
       "                         'max_iter': [100, 200, 300], 'penalty': ['l1', 'l2']},\n",
       "             verbose=1)"
      ]
     },
     "execution_count": 8,
     "metadata": {},
     "output_type": "execute_result"
    }
   ],
   "source": [
    "# 拟合模型\n",
    "grid_search.fit(X_train, y_train)"
   ]
  },
  {
   "cell_type": "code",
   "execution_count": 9,
   "id": "6bc2fecd-7999-49d3-8c14-5140d638db51",
   "metadata": {},
   "outputs": [
    {
     "name": "stdout",
     "output_type": "stream",
     "text": [
      "最佳参数： {'C': 1, 'max_iter': 100, 'penalty': 'l2'}\n"
     ]
    }
   ],
   "source": [
    "# 输出最佳参数\n",
    "print(\"最佳参数：\", grid_search.best_params_)"
   ]
  },
  {
   "cell_type": "code",
   "execution_count": 10,
   "id": "0581ae1a-622d-4382-a0c0-7e6456563187",
   "metadata": {},
   "outputs": [],
   "source": [
    "# 用最佳参数的模型在测试集上进行预测\n",
    "best_lr_clf = grid_search.best_estimator_"
   ]
  },
  {
   "cell_type": "code",
   "execution_count": 11,
   "id": "82a87d21-008d-405f-a017-b2bfdc6eacb3",
   "metadata": {},
   "outputs": [
    {
     "name": "stdout",
     "output_type": "stream",
     "text": [
      "              precision    recall  f1-score   support\n",
      "\n",
      "           0       0.85      0.97      0.91       282\n",
      "           1       0.44      0.13      0.20        55\n",
      "\n",
      "    accuracy                           0.83       337\n",
      "   macro avg       0.64      0.55      0.55       337\n",
      "weighted avg       0.78      0.83      0.79       337\n",
      "\n"
     ]
    }
   ],
   "source": [
    "\n",
    "from sklearn.metrics import classification_report\n",
    "\n",
    "# 预测测试集\n",
    "y_pred =best_lr_clf.predict(X_test)\n",
    "\n",
    "# 输出模型报告， 查看评价指标\n",
    "print(classification_report(y_test, y_pred))"
   ]
  },
  {
   "cell_type": "code",
   "execution_count": 12,
   "id": "8a6b3390-da79-4e9d-98e8-dae0a355045b",
   "metadata": {},
   "outputs": [
    {
     "name": "stdout",
     "output_type": "stream",
     "text": [
      "Accuracy: 0.831\n"
     ]
    }
   ],
   "source": [
    "from sklearn.metrics import accuracy_score\n",
    "# y_true 是真实标签，y_pred 是模型预测的标签\n",
    "accuracy = accuracy_score(y_test, y_pred)\n",
    "print(f\"Accuracy: {accuracy:.3f}\")"
   ]
  },
  {
   "cell_type": "code",
   "execution_count": 13,
   "id": "4e0ffc0b-374d-4d8e-8f35-72a7168eeaf4",
   "metadata": {},
   "outputs": [
    {
     "data": {
      "text/plain": [
       "array([[273,   9],\n",
       "       [ 48,   7]], dtype=int64)"
      ]
     },
     "execution_count": 13,
     "metadata": {},
     "output_type": "execute_result"
    }
   ],
   "source": [
    "#计算混淆矩阵\n",
    "from sklearn.metrics import confusion_matrix\n",
    "from sklearn.metrics import ConfusionMatrixDisplay\n",
    "cm =confusion_matrix(y_test,y_pred)\n",
    "cm"
   ]
  },
  {
   "cell_type": "code",
   "execution_count": 14,
   "id": "2db42726-d443-44c1-aa21-3e07834bd6d3",
   "metadata": {},
   "outputs": [
    {
     "name": "stdout",
     "output_type": "stream",
     "text": [
      "Sensitivity/Recall: 0.127\n",
      "Specificity: 0.968\n",
      "False Positive Rate: 0.032\n",
      "False Negative Rate: 0.873\n",
      "Positive Predictive Value: 0.438\n",
      "Negative Predictive Value: 0.850\n",
      "F1 Score: 0.197\n"
     ]
    }
   ],
   "source": [
    "# 提取混淆矩阵中的各项指标\n",
    "TN = cm[0, 0]\n",
    "FP = cm[0, 1]\n",
    "FN = cm[1, 0]\n",
    "TP = cm[1, 1]\n",
    "\n",
    "# 计算敏感度/召回率\n",
    "sensitivity = TP / (TP + FN)\n",
    "print(f\"Sensitivity/Recall: {sensitivity:.3f}\")\n",
    "\n",
    "# 计算特异度\n",
    "specificity = TN / (TN + FP)\n",
    "print(f\"Specificity: {specificity:.3f}\")\n",
    "\n",
    "# 计算假阳性率\n",
    "FPR = FP / (FP + TN)\n",
    "print(f\"False Positive Rate: {FPR:.3f}\")\n",
    "\n",
    "# 计算假阴性率\n",
    "FNR = FN / (FN + TP)\n",
    "print(f\"False Negative Rate: {FNR:.3f}\")\n",
    "\n",
    "# 计算阳性预测值\n",
    "PPV = TP / (TP + FP)\n",
    "print(f\"Positive Predictive Value: {PPV:.3f}\")\n",
    "\n",
    "# 计算阴性预测值\n",
    "NPV = TN / (TN + FN)\n",
    "print(f\"Negative Predictive Value: {NPV:.3f}\")\n",
    "\n",
    "# 计算F1分数\n",
    "F1_score = 2 * (PPV * sensitivity) / (PPV + sensitivity)\n",
    "print(f\"F1 Score: {F1_score:.3f}\")\n"
   ]
  },
  {
   "cell_type": "code",
   "execution_count": 15,
   "id": "59fc657a-f9db-44ea-aa6b-d42700acc43c",
   "metadata": {},
   "outputs": [
    {
     "data": {
      "image/png": "[encoded data removed]",
      "text/plain": [
       "<Figure size 800x600 with 2 Axes>"
      ]
     },
     "metadata": {},
     "output_type": "display_data"
    }
   ],
   "source": [
    "import matplotlib.pyplot as plt\n",
    "from sklearn.metrics import ConfusionMatrixDisplay\n",
    "import seaborn as sns\n",
    "# 计算混淆矩阵\n",
    "confusion_matrix_model = confusion_matrix(y_test, y_pred)\n",
    "# 使用 ConfusionMatrixDisplay 绘制混淆矩阵热力图\n",
    "cm_display = ConfusionMatrixDisplay(confusion_matrix=confusion_matrix_model)\n",
    "fig, ax = plt.subplots(figsize=(8, 6))  # 可以调整图的大小\n",
    "cm_display.plot(cmap='Blues', ax=ax, values_format='d')\n",
    "\n",
    "# 修改数字字体大小\n",
    "for texts in ax.texts:\n",
    "    texts.set_fontsize(20)\n",
    "\n",
    "# 设置图形标签和标题\n",
    "plt.title('RF', fontsize=20)\n",
    "plt.xlabel('Predicted Label', fontsize=20)\n",
    "plt.ylabel('True Label', fontsize=20)\n",
    "plt.xticks(fontsize=20)\n",
    "plt.yticks(fontsize=20)\n",
    "plt.show()"
   ]
  },
  {
   "cell_type": "code",
   "execution_count": 16,
   "id": "c6cdbdba-773e-4acd-bfa7-793299104d93",
   "metadata": {},
   "outputs": [
    {
     "data": {
      "image/png": "[encoded data removed]",
      "text/plain": [
       "<Figure size 640x480 with 1 Axes>"
      ]
     },
     "metadata": {},
     "output_type": "display_data"
    }
   ],
   "source": [
    "from sklearn.metrics import roc_curve, auc\n",
    "# 预测概率\n",
    "y_score = best_lr_clf.predict_proba(X_test)[:, 1]\n",
    "# 计算ROC曲线\n",
    "fpr_logistic, tpr_logistic, _ = roc_curve(y_test, y_score)\n",
    "roc_auc_logistic = auc(fpr_logistic, tpr_logistic)\n",
    "# 绘制ROC曲线\n",
    "plt.figure()\n",
    "plt.plot(fpr_logistic, tpr_logistic, color='darkorange', lw=2, label='ROC curve (area = %0.3f)' % roc_auc_logistic)\n",
    "plt.plot([0, 1], [0, 1], color='navy', lw=2, linestyle='--')\n",
    "plt.xlim([0.0, 1.0])\n",
    "plt.ylim([0.0, 1.05])\n",
    "plt.xlabel('False Positive Rate')\n",
    "plt.ylabel('True Positive Rate')\n",
    "plt.title('Receiver Operating Characteristic')\n",
    "plt.legend(loc=\"lower right\")\n",
    "plt.show()"
   ]
  },
  {
   "cell_type": "code",
   "execution_count": 17,
   "id": "8c5d4e7d-3c47-40d0-a3dd-91e0128005d7",
   "metadata": {},
   "outputs": [
    {
     "data": {
      "text/plain": [
       "['LR.pkl']"
      ]
     },
     "execution_count": 17,
     "metadata": {},
     "output_type": "execute_result"
    }
   ],
   "source": [
    "import joblib\n",
    "# 保存模型\n",
    "joblib.dump(best_lr_clf, 'LR.pkl')"
   ]
  },
  {
   "cell_type": "code",
   "execution_count": 18,
   "id": "f940c958-f4b2-4d24-be1b-d31c81fc4cd6",
   "metadata": {},
   "outputs": [],
   "source": [
    "import streamlit as st\n",
    "import joblib\n",
    "import numpy as np\n",
    "import pandas as pd\n",
    "import shap\n",
    "import matplotlib.pyplot as plt"
   ]
  },
  {
   "cell_type": "code",
   "execution_count": 19,
   "id": "95f59c55-f8fc-492e-99f2-29b0c6bd3b40",
   "metadata": {},
   "outputs": [],
   "source": [
    "model = joblib.load('LR.pkl')"
   ]
  },
  {
   "cell_type": "code",
   "execution_count": 20,
   "id": "bfcfebd3-5520-477e-aa0c-2a67717c7960",
   "metadata": {},
   "outputs": [],
   "source": [
    "feature_names = [\"Gender\", \"Age\", \"PIR\", \"Drinking\", \"Sleep_disorder\", \"Moderate_physical_activity\", \"Total_cholesterol\"]"
   ]
  },
  {
   "cell_type": "code",
   "execution_count": 25,
   "id": "813e6220-f509-4f9a-a776-6b7da066805e",
   "metadata": {},
   "outputs": [
    {
     "data": {
      "text/plain": [
       "DeltaGenerator()"
      ]
     },
     "execution_count": 25,
     "metadata": {},
     "output_type": "execute_result"
    }
   ],
   "source": [
    "# Streamlit user interface\n",
    "st.title(\"Predictors of depression in stroke patients\")"
   ]
  },
  {
   "cell_type": "code",
   "execution_count": 26,
   "id": "4ed20380-1dcc-4579-9656-ca38685a47da",
   "metadata": {},
   "outputs": [],
   "source": [
    "# sex: categorical selection\n",
    "Gender = st.selectbox(\"Gender (0=Male, 1=Female):\", options=[0, 1], format_func=lambda x: 'Male (0)' if x == 0 else 'Female (1)')\n",
    "\n",
    "# age: numerical input\n",
    "Age = st.number_input(\"Age:\", min_value=20, max_value=85, value=50)\n",
    "\n",
    "# PIR: numerical input\n",
    "PIR = st.number_input(\"PIR:\", min_value=0, max_value=5, value=3)\n",
    "\n",
    "# Dringking: categorical selection\n",
    "Drinking = st.selectbox(\"Drinking (0=No, 1=Yes):\", options=[0, 1], format_func=lambda x: 'No (0)' if x == 0 else 'Yes (1)')\n",
    "\n",
    "# Sleep disorder: categorical selection\n",
    "Sleep_disorder = st.selectbox(\"Sleep_disorder (0=No, 1=Yes):\", options=[0, 1], format_func=lambda x: 'No (0)' if x == 0 else 'Yes (1)')\n",
    "\n",
    "# sex: categorical selection\n",
    "Moderate_physical_activity = st.selectbox(\"Moderate_physical_activity (0=No, 1=Yes):\", options=[0, 1], format_func=lambda x: 'No (0)' if x == 0 else 'Yes (1)')\n",
    "\n",
    "# PIR: numerical input\n",
    "Total_cholesterol = st.number_input(\"Total_cholesterol:\", min_value=2.07, max_value=9.98, value=6.0)"
   ]
  },
  {
   "cell_type": "code",
   "execution_count": 27,
   "id": "193902f3-9ced-41e2-b35e-ce66e98a7efc",
   "metadata": {},
   "outputs": [],
   "source": [
    "# Process inputs and make predictions\n",
    "feature_values = [Gender, Age, PIR, Drinking, Sleep_disorder, Moderate_physical_activity, Total_cholesterol]\n",
    "features = np.array([feature_values])"
   ]
  },
  {
   "cell_type": "code",
   "execution_count": 28,
   "id": "e6fc686c-e5be-482e-9a30-cb5e6c07cd8e",
   "metadata": {},
   "outputs": [],
   "source": [
    "if st.button(\"Predict\"):\n",
    "    try:\n",
    "        # Predict class and probabilities\n",
    "        predicted_class = model.predict(features)[0]\n",
    "        predicted_proba = model.predict_proba(features)[0]\n",
    "\n",
    "        # Display prediction results\n",
    "        st.write(f\"**Predicted Class:** {predicted_class}\")\n",
    "        st.write(f\"**Prediction Probabilities:** {predicted_proba}\")\n",
    "\n",
    "        # Generate advice based on prediction results\n",
    "        probability = predicted_proba[predicted_class] * 100\n",
    "\n",
    "        if predicted_class == 1:\n",
    "            advice = (\n",
    "                f\"According to our model, you have a high risk of heart disease. \"\n",
    "                f\"The model predicts that your probability of having heart disease is {probability:.1f}%. \"\n",
    "                \"While this is just an estimate, it suggests that you may be at significant risk. \"\n",
    "                \"I recommend that you consult a cardiologist as soon as possible for further evaluation and \"\n",
    "                \"to ensure you receive an accurate diagnosis and necessary treatment.\"\n",
    "            )\n",
    "        else:\n",
    "            advice = (\n",
    "                f\"According to our model, you have a low risk of heart disease. \"\n",
    "                f\"The model predicts that your probability of not having heart disease is {probability:.1f}%. \"\n",
    "                \"However, maintaining a healthy lifestyle is still very important. \"\n",
    "                \"I recommend regular check-ups to monitor your heart health, \"\n",
    "                \"and to seek medical advice promptly if you experience any symptoms.\"\n",
    "            )\n",
    "\n",
    "        st.write(advice)\n",
    "\n",
    "        # Calculate SHAP values and display force plot\n",
    "        with st.spinner(\"Calculating SHAP values...\"):\n",
    "            explainer = shap.TreeExplainer(model)\n",
    "            shap_values = explainer.shap_values(pd.DataFrame([feature_values], columns=feature_names))\n",
    "\n",
    "            shap.force_plot(explainer.expected_value, shap_values[0], pd.DataFrame([feature_values], columns=feature_names), matplotlib=True)\n",
    "            plt.savefig(\"shap_force_plot.png\", bbox_inches='tight', dpi=1200)\n",
    "\n",
    "        # Display the SHAP force plot image\n",
    "        st.image(\"shap_force_plot.png\")\n",
    "\n",
    "    except Exception as e:\n",
    "        st.error(f\"An error occurred: {str(e)}\")\n"
   ]
  },
  {
   "cell_type": "code",
   "execution_count": null,
   "id": "dc545d00-2900-4098-91cf-ff4554739bfc",
   "metadata": {},
   "outputs": [],
   "source": []
  }
 ],
 "metadata": {
  "kernelspec": {
   "display_name": "Python 3 (ipykernel)",
   "language": "python",
   "name": "python3"
  },
  "language_info": {
   "codemirror_mode": {
    "name": "ipython",
    "version": 3
   },
   "file_extension": ".py",
   "mimetype": "text/x-python",
   "name": "python",
   "nbconvert_exporter": "python",
   "pygments_lexer": "ipython3",
   "version": "3.11.7"
  }
 },
 "nbformat": 4,
 "nbformat_minor": 5
}
